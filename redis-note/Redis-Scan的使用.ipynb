{
 "cells": [
  {
   "cell_type": "markdown",
   "metadata": {},
   "source": [
    "## SCAN"
   ]
  },
  {
   "cell_type": "markdown",
   "metadata": {
    "collapsed": true
   },
   "source": [
    "有时候需要从 Redis 实例成千上万的 key 中找出特定前缀的 key 列表来手动处理数据，可能是修改它的值，也可能是删除 key。这里就有一个问题，如何从海量的 key 中找出满足特定前缀的 key 列表来？"
   ]
  },
  {
   "cell_type": "markdown",
   "metadata": {},
   "source": [
    "Redis 提供了一个简单暴力的指令 keys 用来列出所有满足特定正则字符串规则的 key。"
   ]
  },
  {
   "cell_type": "code",
   "execution_count": 1,
   "metadata": {},
   "outputs": [
    {
     "name": "stdout",
     "output_type": "stream",
     "text": [
      "  1) \"key6764\"\r\n",
      "  2) \"key6738\"\r\n",
      "  3) \"key6774\"\r\n",
      "  4) \"key673\"\r\n",
      "  5) \"key6710\"\r\n",
      "  6) \"key6759\"\r\n",
      "  7) \"key6715\"\r\n",
      "  8) \"key6746\"\r\n",
      "  9) \"key6796\"\r\n",
      " 10) \"key6717\"\r\n",
      " 11) \"key6704\"\r\n",
      " 12) \"key6708\"\r\n",
      " 13) \"key6721\"\r\n",
      " 14) \"key6718\"\r\n",
      " 15) \"key6701\"\r\n",
      " 16) \"key6735\"\r\n",
      " 17) \"key6775\"\r\n",
      " 18) \"key6723\"\r\n",
      " 19) \"key6743\"\r\n",
      " 20) \"key6739\"\r\n",
      " 21) \"key6787\"\r\n",
      " 22) \"key6728\"\r\n",
      " 23) \"key6727\"\r\n",
      " 24) \"key6724\"\r\n",
      " 25) \"key6777\"\r\n",
      " 26) \"key6702\"\r\n",
      " 27) \"key6709\"\r\n",
      " 28) \"key6749\"\r\n",
      " 29) \"key6753\"\r\n",
      " 30) \"key6732\"\r\n",
      " 31) \"key6798\"\r\n",
      " 32) \"key6793\"\r\n",
      " 33) \"key6776\"\r\n",
      " 34) \"key6719\"\r\n",
      " 35) \"key670\"\r\n",
      " 36) \"key6742\"\r\n",
      " 37) \"key6712\"\r\n",
      " 38) \"key6736\"\r\n",
      " 39) \"key672\"\r\n",
      " 40) \"key6716\"\r\n",
      " 41) \"key6740\"\r\n",
      " 42) \"key6757\"\r\n",
      " 43) \"key6766\"\r\n",
      " 44) \"key6725\"\r\n",
      " 45) \"key6785\"\r\n",
      " 46) \"key6769\"\r\n",
      " 47) \"key6772\"\r\n",
      " 48) \"key6756\"\r\n",
      " 49) \"key6711\"\r\n",
      " 50) \"key674\"\r\n",
      " 51) \"key6781\"\r\n",
      " 52) \"key671\"\r\n",
      " 53) \"key6755\"\r\n",
      " 54) \"key6752\"\r\n",
      " 55) \"key6722\"\r\n",
      " 56) \"key6765\"\r\n",
      " 57) \"key6763\"\r\n",
      " 58) \"key6782\"\r\n",
      " 59) \"key6750\"\r\n",
      " 60) \"key6768\"\r\n",
      " 61) \"key6751\"\r\n",
      " 62) \"key6784\"\r\n",
      " 63) \"key6761\"\r\n",
      " 64) \"key6760\"\r\n",
      " 65) \"key6754\"\r\n",
      " 66) \"key6762\"\r\n",
      " 67) \"key6770\"\r\n",
      " 68) \"key6790\"\r\n",
      " 69) \"key6794\"\r\n",
      " 70) \"key6737\"\r\n",
      " 71) \"key6726\"\r\n",
      " 72) \"key6707\"\r\n",
      " 73) \"key6700\"\r\n",
      " 74) \"key6795\"\r\n",
      " 75) \"key675\"\r\n",
      " 76) \"key677\"\r\n",
      " 77) \"key6797\"\r\n",
      " 78) \"key6748\"\r\n",
      " 79) \"key6799\"\r\n",
      " 80) \"key6789\"\r\n",
      " 81) \"key679\"\r\n",
      " 82) \"key6779\"\r\n",
      " 83) \"key6733\"\r\n",
      " 84) \"key6730\"\r\n",
      " 85) \"key6778\"\r\n",
      " 86) \"key678\"\r\n",
      " 87) \"key6771\"\r\n",
      " 88) \"key6729\"\r\n",
      " 89) \"key6714\"\r\n",
      " 90) \"key6741\"\r\n",
      " 91) \"key6706\"\r\n",
      " 92) \"key6791\"\r\n",
      " 93) \"key6773\"\r\n",
      " 94) \"key676\"\r\n",
      " 95) \"key6705\"\r\n",
      " 96) \"key6720\"\r\n",
      " 97) \"key6703\"\r\n",
      " 98) \"key6731\"\r\n",
      " 99) \"key6713\"\r\n",
      "100) \"key6788\"\r\n",
      "101) \"key6767\"\r\n",
      "102) \"key6786\"\r\n",
      "103) \"key6744\"\r\n",
      "104) \"key6792\"\r\n",
      "105) \"key6783\"\r\n",
      "106) \"key6734\"\r\n",
      "107) \"key67\"\r\n",
      "108) \"key6745\"\r\n",
      "109) \"key6747\"\r\n",
      "110) \"key6758\"\r\n",
      "111) \"key6780\"\r\n"
     ]
    }
   ],
   "source": [
    "!redis-cli keys key67*"
   ]
  },
  {
   "cell_type": "markdown",
   "metadata": {},
   "source": [
    "这个指令使用非常简单，提供一个简单的正则字符串即可，但是有很明显的两个缺点。\n",
    "\n",
    "- 没有 offset、limit 参数，一次性吐出所有满足条件的 key，万一实例中有几百 w 个 key 满足条件，\n",
    "\n",
    "    当你看到满屏的字符串刷的没有尽头时，你就知道难受了。\n",
    "    \n",
    "\n",
    "- keys 算法是遍历算法，复杂度是 O(n)，如果实例中有千万级以上的 key，这个指令就会导致 Redis 服务卡顿，\n",
    "\n",
    "    所有读写 Redis 的其它的指令都会被延后甚至会超时报错，\n",
    "\n",
    "    因为 Redis 是单线程程序，顺序执行所有指令，其它指令必须等到当前的 keys 指令执行完了才可以继续。\n",
    "    \n",
    " -  建议生产环境屏蔽keys命令\n"
   ]
  },
  {
   "cell_type": "markdown",
   "metadata": {},
   "source": [
    "Redis 为了解决这个问题，它在 2.8 版本中加入了指令——scan。\n",
    "\n",
    "scan 相比 keys 具备有以下特点:\n",
    "\n",
    "- 复杂度虽然也是 O(n)，但是它是通过游标分步进行的，不会阻塞线程;\n",
    "\n",
    "- 提供 limit 参数，可以控制每次返回结果的最大条数，limit 只是对增量式迭代命令的一种提示(hint)，返回的结果可多可少;\n",
    "\n",
    "- 同 keys 一样，它也提供模式匹配功能;\n",
    "\n",
    "- 服务器不需要为游标保存状态，游标的唯一状态就是 scan 返回给客户端的游标整数;\n",
    "\n",
    "- 返回的结果可能会有重复，需要客户端去重复，这点非常重要;\n",
    "\n",
    "- 遍历的过程中如果有数据修改，改动后的数据能不能遍历到是不确定的;\n",
    "\n",
    "- 单次返回的结果是空的并不意味着遍历结束，而要看返回的游标值是否为零\n",
    "\n"
   ]
  },
  {
   "cell_type": "markdown",
   "metadata": {},
   "source": [
    "### scan 基础使用"
   ]
  },
  {
   "cell_type": "markdown",
   "metadata": {},
   "source": [
    "**SCAN cursor [MATCH pattern] [COUNT count]**\n",
    "\n",
    "初始执行scan命令例如scan 0。SCAN命令是一个基于游标的迭代器。\n",
    "\n",
    "这意味着命令每次被调用都需要使用上一次这个调用返回的游标作为该次调用的游标参数，以此来延续之前的迭代过程。\n",
    "\n",
    "当SCAN命令的游标参数被设置为0时，服务器将开始一次新的迭代，而当redis服务器向用户返回值为0的游标时，\n",
    "\n",
    "表示迭代已结束，这是唯一迭代结束的判定方式，而不能通过返回结果集是否为空判断迭代结束。\n",
    "\n",
    "\n",
    "\n",
    "> scan 参数提供了三个参数，第一个是 cursor 整数值，第二个是 key 的正则模式，第三个是遍历的 limit hint。\n",
    "\n",
    "> 第一次遍历时，cursor 值为 0，然后将返回结果中第一个整数值作为下一次遍历的 cursor。\n",
    "\n",
    "> 一直遍历到返回的 cursor 值为 0 时结束。\n"
   ]
  },
  {
   "cell_type": "code",
   "execution_count": 22,
   "metadata": {},
   "outputs": [
    {
     "name": "stdout",
     "output_type": "stream",
     "text": [
      "1) \"15360\"\r\n",
      "2) (empty list or set)\r\n"
     ]
    }
   ],
   "source": [
    "!redis-cli scan 0 match key99* count 1000"
   ]
  },
  {
   "cell_type": "code",
   "execution_count": 4,
   "metadata": {},
   "outputs": [
    {
     "name": "stdout",
     "output_type": "stream",
     "text": [
      "1) \"5292\"\r\n",
      "2)  1) \"key996\"\r\n",
      "    2) \"key9960\"\r\n",
      "    3) \"key9973\"\r\n",
      "    4) \"key9978\"\r\n",
      "    5) \"key9927\"\r\n",
      "    6) \"key995\"\r\n",
      "    7) \"key9992\"\r\n",
      "    8) \"key9993\"\r\n",
      "    9) \"key9964\"\r\n",
      "   10) \"key9934\"\r\n"
     ]
    }
   ],
   "source": [
    "!redis-cli scan 13912 match key99* count 1000"
   ]
  },
  {
   "cell_type": "markdown",
   "metadata": {},
   "source": [
    "> 返回结果分为两个部分：第一部分即 1) 就是下一次迭代游标，第二部分即 2) 就是本次迭代结果集。\n",
    "\n",
    "\n",
    "从上面的过程可以看到虽然提供的 limit 是 1000，但是返回的结果只有 10 个左右。\n",
    "\n",
    "因为这个 limit 不是限定返回结果的数量，而是限定服务器单次遍历的字典槽位数量(约等于)。\n",
    "\n",
    "如果将 limit 设置为 10，你会发现返回结果是空的，但是游标值不为零，意味着遍历还没结束。\n"
   ]
  },
  {
   "cell_type": "code",
   "execution_count": 10,
   "metadata": {},
   "outputs": [
    {
     "name": "stdout",
     "output_type": "stream",
     "text": [
      "1) \"15360\"\r\n",
      "2) (empty list or set)\r\n"
     ]
    }
   ],
   "source": [
    "!redis-cli scan 0 match key99* count 10"
   ]
  },
  {
   "cell_type": "code",
   "execution_count": 11,
   "metadata": {},
   "outputs": [
    {
     "name": "stdout",
     "output_type": "stream",
     "text": [
      "1) \"2304\"\r\n",
      "2) (empty list or set)\r\n"
     ]
    }
   ],
   "source": [
    "!redis-cli scan 15360 match key99* count 10"
   ]
  },
  {
   "cell_type": "markdown",
   "metadata": {},
   "source": [
    "### 更多的 scan 指令"
   ]
  },
  {
   "cell_type": "markdown",
   "metadata": {},
   "source": [
    "scan 指令是一系列指令，除了可以遍历所有的 key 之外，还可以对指定的容器集合进行遍历。\n",
    "\n",
    "zscan 遍历 zset 集合元素，\n",
    "\n",
    "hscan 遍历 hash 字典的元素、\n",
    "\n",
    "sscan 遍历 set 集合的元素。\n",
    "\n",
    "**注意点：**\n",
    "\n",
    " SSCAN 命令、 HSCAN 命令和 ZSCAN 命令的第一个参数总是一个数据库键。\n",
    "\n",
    " 而 SCAN 命令则不需要在第一个参数提供任何数据库键 —— 因为它迭代的是当前数据库中的所有数据库键。"
   ]
  },
  {
   "cell_type": "markdown",
   "metadata": {},
   "source": [
    "### 大 key 扫描"
   ]
  },
  {
   "cell_type": "markdown",
   "metadata": {},
   "source": [
    "有时候会因为业务人员使用不当，在 Redis 实例中会形成很大的对象，比如一个很大的 hash，一个很大的 zset 这都是经常出现的。\n",
    "\n",
    "这样的对象对 Redis 的集群数据迁移带来了很大的问题，因为在集群环境下，如果某个 key 太大，会让数据导致迁移卡顿。\n",
    "\n",
    "另外在内存分配上，如果一个 key 太大，那么当它需要扩容时，会一次性申请更大的一块内存，这也会导致卡顿。\n",
    "\n",
    "如果这个大 key 被删除，内存会一次性回收，卡顿现象会再一次产生。\n",
    "\n",
    "**在平时的业务开发中，要尽量避免大 key 的产生。**\n",
    "\n",
    "如果你观察到 Redis 的内存大起大落，这极有可能是因为大 key 导致的，这时候你就需要定位出具体是那个 key，\n",
    "\n",
    "进一步定位出具体的业务来源，然后再改进相关业务代码设计。\n",
    "\n",
    "\n",
    "**那如何定位大 key 呢？**\n",
    "\n",
    "\n",
    "为了避免对线上 Redis 带来卡顿，这就要用到 scan 指令，对于扫描出来的每一个 key，使用 type 指令获得 key 的类型，\n",
    "\n",
    "然后使用相应数据结构的 size 或者 len 方法来得到它的大小，对于每一种类型，保留大小的前 N 名作为扫描结果展示出来。\n",
    "\n",
    "上面这样的过程需要编写脚本，比较繁琐，不过 Redis 官方已经在 redis-cli 指令中提供了这样的扫描功能，我们可以直接拿来即用。\n"
   ]
  },
  {
   "cell_type": "code",
   "execution_count": 23,
   "metadata": {},
   "outputs": [
    {
     "name": "stdout",
     "output_type": "stream",
     "text": [
      "(integer) 100000\r\n"
     ]
    }
   ],
   "source": [
    "!redis-cli  llen mylist"
   ]
  },
  {
   "cell_type": "code",
   "execution_count": 15,
   "metadata": {},
   "outputs": [
    {
     "name": "stdout",
     "output_type": "stream",
     "text": [
      "\n",
      "# Scanning the entire keyspace to find biggest keys as well as\n",
      "# average sizes per key type.  You can use -i 0.1 to sleep 0.1 sec\n",
      "# per 100 SCAN commands (not usually needed).\n",
      "\n",
      "[00.00%] Biggest string found so far 'key316' with 3 bytes\n",
      "[00.00%] Biggest string found so far 'key7806' with 4 bytes\n",
      "[12.79%] Biggest zset   found so far 'salary' with 1 members\n",
      "[13.19%] Biggest string found so far 'counter:__rand_int__' with 6 bytes\n",
      "[13.50%] Biggest hash   found so far 'websit' with 2 fields\n",
      "[14.37%] Biggest set    found so far 'bbs' with 3 members\n",
      "[14.67%] Biggest hash   found so far 'website' with 3 fields\n",
      "[30.41%] Biggest list   found so far 'mylist' with 100000 items\n",
      "[95.53%] Biggest zset   found so far 'page_rank' with 3 members\n",
      "\n",
      "-------- summary -------\n",
      "\n",
      "Sampled 10019 keys in the keyspace!\n",
      "Total key length in bytes is 68990 (avg len 6.89)\n",
      "\n",
      "Biggest string found 'counter:__rand_int__' has 6 bytes\n",
      "Biggest   list found 'mylist' has 100000 items\n",
      "Biggest    set found 'bbs' has 3 members\n",
      "Biggest   hash found 'website' has 3 fields\n",
      "Biggest   zset found 'page_rank' has 3 members\n",
      "\n",
      "10011 strings with 38919 bytes (99.92% of keys, avg size 3.89)\n",
      "3 lists with 100003 items (00.03% of keys, avg size 33334.33)\n",
      "1 sets with 3 members (00.01% of keys, avg size 3.00)\n",
      "2 hashs with 5 fields (00.02% of keys, avg size 2.50)\n",
      "2 zsets with 4 members (00.02% of keys, avg size 2.00)\n"
     ]
    }
   ],
   "source": [
    "!redis-cli  --bigkeys"
   ]
  },
  {
   "cell_type": "markdown",
   "metadata": {},
   "source": [
    "如果你担心这个指令会大幅抬升 Redis 的 ops 导致线上报警，还可以增加一个休眠参数。"
   ]
  },
  {
   "cell_type": "code",
   "execution_count": 17,
   "metadata": {},
   "outputs": [
    {
     "name": "stdout",
     "output_type": "stream",
     "text": [
      "\n",
      "# Scanning the entire keyspace to find biggest keys as well as\n",
      "# average sizes per key type.  You can use -i 0.1 to sleep 0.1 sec\n",
      "# per 100 SCAN commands (not usually needed).\n",
      "\n",
      "[00.00%] Biggest string found so far 'key316' with 3 bytes\n",
      "[00.00%] Biggest string found so far 'key7806' with 4 bytes\n",
      "[12.79%] Biggest zset   found so far 'salary' with 1 members\n",
      "[13.19%] Biggest string found so far 'counter:__rand_int__' with 6 bytes\n",
      "[13.50%] Biggest hash   found so far 'websit' with 2 fields\n",
      "[14.37%] Biggest set    found so far 'bbs' with 3 members\n",
      "[14.67%] Biggest hash   found so far 'website' with 3 fields\n",
      "[30.41%] Biggest list   found so far 'mylist' with 100000 items\n",
      "[95.53%] Biggest zset   found so far 'page_rank' with 3 members\n",
      "\n",
      "-------- summary -------\n",
      "\n",
      "Sampled 10019 keys in the keyspace!\n",
      "Total key length in bytes is 68990 (avg len 6.89)\n",
      "\n",
      "Biggest string found 'counter:__rand_int__' has 6 bytes\n",
      "Biggest   list found 'mylist' has 100000 items\n",
      "Biggest    set found 'bbs' has 3 members\n",
      "Biggest   hash found 'website' has 3 fields\n",
      "Biggest   zset found 'page_rank' has 3 members\n",
      "\n",
      "10011 strings with 38919 bytes (99.92% of keys, avg size 3.89)\n",
      "3 lists with 100003 items (00.03% of keys, avg size 33334.33)\n",
      "1 sets with 3 members (00.01% of keys, avg size 3.00)\n",
      "2 hashs with 5 fields (00.02% of keys, avg size 2.50)\n",
      "2 zsets with 4 members (00.02% of keys, avg size 2.00)\n"
     ]
    }
   ],
   "source": [
    "!redis-cli  --bigkeys -i 0.1"
   ]
  },
  {
   "cell_type": "markdown",
   "metadata": {},
   "source": [
    "上面这个指令每隔 100 条 scan 指令就会休眠 0.1s，ops 就不会剧烈抬升，但是扫描的时间会变长。"
   ]
  },
  {
   "cell_type": "markdown",
   "metadata": {},
   "source": [
    "需要注意的是，这个bigkeys得到的最大，不一定是最大。\n",
    "\n",
    "说明原因前，首先说明bigkeys的原理，非常简单，通过scan命令遍历，各种不同数据结构的key，分别通过不同的命令得到最大的key：\n",
    "\n",
    "- 如果是string结构，通过strlen判断；\n",
    "- 如果是list结构，通过llen判断；\n",
    "- 如果是hash结构，通过hlen判断；\n",
    "- 如果是set结构，通过scard判断；\n",
    "- 如果是sorted set结构，通过zcard判断。"
   ]
  },
  {
   "cell_type": "markdown",
   "metadata": {},
   "source": [
    "> 正因为这样的判断方式，虽然string结构肯定可以正确的筛选出最占用缓存，也可以说最大的key。\n",
    "\n",
    "> 但是list不一定，例如，现在有两个list类型的key，分别是：numberlist--[0,1,2]，stringlist--[\"123456789123456789\"]，\n",
    "\n",
    "> 由于通过llen判断，所以numberlist要大于stringlist。\n",
    "\n",
    "> 而事实上stringlist更占用内存。其他三种数据结构hash，set，sorted set都会存在这个问题。\n",
    "\n",
    "> 使用bigkeys一定要注意这一点。"
   ]
  },
  {
   "cell_type": "markdown",
   "metadata": {},
   "source": [
    "### slowlog命令"
   ]
  },
  {
   "cell_type": "markdown",
   "metadata": {},
   "source": [
    "上面提到不能使用keys命令，如果就有开发这么做了呢，我们如何得知？\n",
    "\n",
    "与其他任意存储系统例如mysql，mongodb可以查看慢日志一样，redis也可以，即通过命令slowlog。\n",
    "\n",
    "用法如下\n",
    "\n",
    "**SLOWLOG subcommand [argument]**\n",
    "\n",
    "subcommand主要有：\n",
    "\n",
    "- get，用法：slowlog get [argument]，获取argument参数指定数量的慢日志。\n",
    "- len，用法：slowlog len，总慢日志数量。\n",
    "- reset，用法：slowlog reset，清空慢日志。"
   ]
  },
  {
   "cell_type": "code",
   "execution_count": 20,
   "metadata": {},
   "outputs": [
    {
     "name": "stdout",
     "output_type": "stream",
     "text": [
      "1) 1) (integer) 2\r\n",
      "   2) (integer) 1537786953\r\n",
      "   3) (integer) 17980\r\n",
      "   4) 1) \"scan\"\r\n",
      "      2) \"0\"\r\n",
      "      3) \"match\"\r\n",
      "      4) \"key99*\"\r\n",
      "      5) \"count\"\r\n",
      "      6) \"1000\"\r\n",
      "   5) \"127.0.0.1:50129\"\r\n",
      "   6) \"\"\r\n",
      "2) 1) (integer) 1\r\n",
      "   2) (integer) 1537785886\r\n",
      "   3) (integer) 39537\r\n",
      "   4) 1) \"keys\"\r\n",
      "      2) \"*\"\r\n",
      "   5) \"127.0.0.1:49701\"\r\n",
      "   6) \"\"\r\n",
      "3) 1) (integer) 0\r\n",
      "   2) (integer) 1537681701\r\n",
      "   3) (integer) 18276\r\n",
      "   4) 1) \"ZADD\"\r\n",
      "      2) \"page_rank\"\r\n",
      "      3) \"10\"\r\n",
      "      4) \"google.com\"\r\n",
      "   5) \"127.0.0.1:52334\"\r\n",
      "   6) \"\"\r\n"
     ]
    }
   ],
   "source": [
    "!redis-cli slowlog get 5"
   ]
  },
  {
   "cell_type": "markdown",
   "metadata": {},
   "source": [
    "命令耗时超过多少才会保存到slowlog中，可以通过命令config set slowlog-log-slower-than 2000配置并且不需要重启redis。\n",
    "\n",
    "注意：单位是微妙，2000微妙即2毫秒。"
   ]
  },
  {
   "cell_type": "markdown",
   "metadata": {},
   "source": [
    "### rename-command"
   ]
  },
  {
   "cell_type": "markdown",
   "metadata": {},
   "source": [
    "为了防止把问题带到生产环境，我们可以通过配置文件重命名一些危险命令，\n",
    "\n",
    "例如keys等一些高危命令。操作非常简单，\n",
    "\n",
    "只需要在conf配置文件增加如下所示配置即可：\n",
    "\n",
    ">rename-command flushdb flushddbb\n",
    "\n",
    ">rename-command flushall flushallall\n",
    "\n",
    ">rename-command keys keysys"
   ]
  }
 ],
 "metadata": {
  "kernelspec": {
   "display_name": "Python [conda env:anaconda3]",
   "language": "python",
   "name": "conda-env-anaconda3-py"
  },
  "language_info": {
   "codemirror_mode": {
    "name": "ipython",
    "version": 3
   },
   "file_extension": ".py",
   "mimetype": "text/x-python",
   "name": "python",
   "nbconvert_exporter": "python",
   "pygments_lexer": "ipython3",
   "version": "3.6.2"
  }
 },
 "nbformat": 4,
 "nbformat_minor": 2
}
