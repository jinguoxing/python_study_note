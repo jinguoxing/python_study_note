{
 "cells": [
  {
   "cell_type": "markdown",
   "metadata": {
    "collapsed": true
   },
   "source": [
    "## 设置键的生存时间或过期时间"
   ]
  },
  {
   "cell_type": "markdown",
   "metadata": {},
   "source": [
    "### 设置生存时间"
   ]
  },
  {
   "cell_type": "markdown",
   "metadata": {},
   "source": [
    "通过EXPIRE 或PEXPIRE ，客户端可以以秒或者毫秒精度为数据库中的某个键设置生存时间（Time To Live，TTL），\n",
    "\n",
    "在经过指定的秒数或毫秒数之后，服务器就会自动删除生存时间为0的键。"
   ]
  },
  {
   "cell_type": "code",
   "execution_count": 2,
   "metadata": {},
   "outputs": [
    {
     "name": "stdout",
     "output_type": "stream",
     "text": [
      "OK\n",
      "(integer) 1\n",
      "(integer) 100\n"
     ]
    }
   ],
   "source": [
    "!redis-cli set key value \n",
    "!redis-cli expire key 100\n",
    "!redis-cli ttl key"
   ]
  },
  {
   "cell_type": "code",
   "execution_count": 3,
   "metadata": {},
   "outputs": [
    {
     "name": "stdout",
     "output_type": "stream",
     "text": [
      "(integer) 90\r\n"
     ]
    }
   ],
   "source": [
    "!redis-cli ttl key"
   ]
  },
  {
   "cell_type": "code",
   "execution_count": 7,
   "metadata": {},
   "outputs": [
    {
     "name": "stdout",
     "output_type": "stream",
     "text": [
      "OK\n",
      "(integer) 1\n",
      "(integer) 2881\n"
     ]
    }
   ],
   "source": [
    "!redis-cli set key1 value \n",
    "!redis-cli pexpire key1 9000\n",
    "!redis-cli pttl key1"
   ]
  },
  {
   "cell_type": "code",
   "execution_count": 8,
   "metadata": {},
   "outputs": [
    {
     "name": "stdout",
     "output_type": "stream",
     "text": [
      "(integer) 445\r\n"
     ]
    }
   ],
   "source": [
    "!redis-cli pttl key1"
   ]
  },
  {
   "cell_type": "markdown",
   "metadata": {},
   "source": [
    "### 设置过期时间"
   ]
  },
  {
   "cell_type": "markdown",
   "metadata": {},
   "source": [
    "通过EXPIREAT或PEXPIREAT命令，以秒或毫秒的精度给数据库中的某个键设置过期时间（expire time），\n",
    "\n",
    "过期时间是一个UNIX时间戳，当键的过期时间来临时，服务器就会自动从数据库中删除这个键。"
   ]
  },
  {
   "cell_type": "code",
   "execution_count": 31,
   "metadata": {},
   "outputs": [
    {
     "name": "stdout",
     "output_type": "stream",
     "text": [
      "1) \"1540428171\"\r\n",
      "2) \"341256\"\r\n"
     ]
    }
   ],
   "source": [
    "!redis-cli time"
   ]
  },
  {
   "cell_type": "code",
   "execution_count": 32,
   "metadata": {},
   "outputs": [
    {
     "name": "stdout",
     "output_type": "stream",
     "text": [
      "OK\n",
      "(integer) 1\n",
      "\"value\"\n",
      "(integer) 11\n",
      "(integer) 10439\n"
     ]
    }
   ],
   "source": [
    "!redis-cli set key2 value \n",
    "!redis-cli expireat key2 1540428197\n",
    "!redis-cli get key2  \n",
    "!redis-cli ttl key2  \n",
    "!redis-cli pttl key2  "
   ]
  },
  {
   "cell_type": "code",
   "execution_count": 33,
   "metadata": {},
   "outputs": [
    {
     "name": "stdout",
     "output_type": "stream",
     "text": [
      "(integer) -2\n",
      "(integer) -2\n"
     ]
    }
   ],
   "source": [
    "!redis-cli ttl key2  \n",
    "!redis-cli pttl key2"
   ]
  },
  {
   "cell_type": "code",
   "execution_count": 40,
   "metadata": {},
   "outputs": [
    {
     "name": "stdout",
     "output_type": "stream",
     "text": [
      "1) \"1540428335\"\r\n",
      "2) \"210648\"\r\n"
     ]
    }
   ],
   "source": [
    "!redis-cli time"
   ]
  },
  {
   "cell_type": "code",
   "execution_count": 41,
   "metadata": {},
   "outputs": [
    {
     "name": "stdout",
     "output_type": "stream",
     "text": [
      "OK\n",
      "(integer) 1\n",
      "\"value\"\n",
      "(integer) 13\n",
      "(integer) 13233\n"
     ]
    }
   ],
   "source": [
    "!redis-cli set key3 value \n",
    "!redis-cli pexpireat key3 1540428355000\n",
    "!redis-cli get key3  \n",
    "!redis-cli ttl key3  \n",
    "!redis-cli pttl key3  "
   ]
  },
  {
   "cell_type": "code",
   "execution_count": 42,
   "metadata": {},
   "outputs": [
    {
     "name": "stdout",
     "output_type": "stream",
     "text": [
      "(integer) 11\n",
      "(integer) 11162\n"
     ]
    }
   ],
   "source": [
    "!redis-cli ttl key3  \n",
    "!redis-cli pttl key3"
   ]
  },
  {
   "cell_type": "markdown",
   "metadata": {},
   "source": [
    "### 设置过期时间"
   ]
  },
  {
   "cell_type": "markdown",
   "metadata": {},
   "source": [
    "Redis有四个不同的命令可以用于设置键的生存时间（键可以存在多久）或过期时间（键可以时候会被删除）"
   ]
  },
  {
   "cell_type": "markdown",
   "metadata": {},
   "source": [
    "- EXPIRE 键名key  秒数ttl  : 用于将键的生存时间设置为ttl秒 \n",
    "\n",
    "- PEXPIRE 键名key  毫秒数ttl : 用于将键的生存时间设置为ttl毫秒 \n",
    "\n",
    "- EXPIREAT 键名key  时间戳timestamp : 用于将键的过期时间设置为timestamp所指定的秒数时间戳\n",
    "\n",
    "- PEXPIREAT 键名key  时间戳timestamp : 用于将键的过期时间设置为timestamp所指定的毫秒数时间戳\n",
    "\n",
    "*注 实际上 EXPIRE 、PEXPIRE、EXPIREAT 三个命令都是用PEXPIREAT命令来实现的：无论客户端执行的是以上四个命令中的哪一个，经过转换后，最终的\n",
    "\n",
    "执行效果都和执行PEXPIREAT命令一样。"
   ]
  },
  {
   "cell_type": "markdown",
   "metadata": {},
   "source": [
    "### 移除过期时间"
   ]
  },
  {
   "cell_type": "markdown",
   "metadata": {},
   "source": [
    "PERSIST 命令可以移除一个键的过期时间"
   ]
  },
  {
   "cell_type": "code",
   "execution_count": 45,
   "metadata": {},
   "outputs": [
    {
     "name": "stdout",
     "output_type": "stream",
     "text": [
      "(integer) 1\n",
      "(integer) 1000\n"
     ]
    }
   ],
   "source": [
    "!redis-cli EXPIRE key5 1000\n",
    "!redis-cli ttl key5 "
   ]
  },
  {
   "cell_type": "code",
   "execution_count": 46,
   "metadata": {},
   "outputs": [
    {
     "name": "stdout",
     "output_type": "stream",
     "text": [
      "(integer) 987\n",
      "(integer) 1\n",
      "(integer) -1\n"
     ]
    }
   ],
   "source": [
    "!redis-cli ttl key5 \n",
    "!redis-cli PERSIST key5 \n",
    "!redis-cli ttl key5 "
   ]
  },
  {
   "cell_type": "markdown",
   "metadata": {},
   "source": [
    "### Redis是如何判断一个键过期的呢？   \n",
    "\n",
    "在redis中维护了一个expires字典，里面保存了数据库中所有设置了过期时间的键的过期时间，称为过期字典。我们可以用ttl（time to live）命令去查\n",
    "\n",
    "看key的剩余生存秒数，也可以用pttl查看key的剩余生存毫秒数，过程即是拿着key去expires字典中获取到key的过期毫秒时间戳，\n",
    "\n",
    "再减去当前时间戳，即可得到key的剩余生存时间。\n",
    "\n",
    "    而判断key是否过期，也是通过过期字典来完成的：\n",
    "\n",
    "    ①首先检查给定键是否存在于过期字典中，若存在则取得键的过期时间\n",
    "\n",
    "    ②检查当前UNIX时间戳是否大于键的过期时间，如果是的话则键已过期，若否则未过期\n"
   ]
  },
  {
   "cell_type": "markdown",
   "metadata": {},
   "source": [
    "## 删除策略"
   ]
  },
  {
   "cell_type": "markdown",
   "metadata": {},
   "source": [
    "- 定时删除：在设置键的过期时间的同时，创建一个定时器，定时定时器在键的过期时间来临时，立即执行对键的删除操作。（主动删除策略）\n",
    "\n",
    "- 惰性删除：放任键过期不管，但是每次从键空间中获取键时，都检查取得的键是否过期，如果过期的话，就删除改键；如果没有过期，就返回该键。 （被动删除策略）\n",
    "\n",
    "- 定期删除：每隔一段时间，程序就对数据库进行一次检查，删除里面的过期键。至于要删除多少过期键，以及要检查多少个数据库，则由算法决定。 （主动删除策略）"
   ]
  },
  {
   "cell_type": "markdown",
   "metadata": {},
   "source": [
    "### 定时删除策略"
   ]
  },
  {
   "cell_type": "markdown",
   "metadata": {},
   "source": [
    "- 优点：定时删除策略对内存是友好的；通过使用定时器，定时删除策略可以保证过期键会尽快地被删除，并释放过期键所占用的内存 。\n",
    "\n",
    "- 缺点：它对CPU时间是最不友好的；在过期键比较多的情况下，删除过期键这一行为会占用相当一部分CPU时间，对服务器的响应时间和吞吐量造成影响。"
   ]
  },
  {
   "cell_type": "markdown",
   "metadata": {},
   "source": [
    "### 惰性删除策略"
   ]
  },
  {
   "cell_type": "markdown",
   "metadata": {},
   "source": [
    "- 优点： 惰性删除策略对CPU 时间来说是最友好的:程序只会在取出键时才对键进行过期检查，这可以保证删除过期键的操作只会在非做不可的情况下进行， 并且删除的目标仅限于当前处理的键，这个策略不会在删除其他无关的过期键上花费任何CPU时间。\n",
    "\n",
    "- 缺点：它对内存是最不友好的: 如果一个键已经过期，而这个键又仍然保留在数据库中，那么只要这个过期键不被删除，它所占用的内存就不会释放。"
   ]
  },
  {
   "cell_type": "markdown",
   "metadata": {},
   "source": [
    "### 定期删除策略"
   ]
  },
  {
   "cell_type": "markdown",
   "metadata": {},
   "source": [
    "- 定时删除占用太多CPU 时间，影响服务器的响应时间和吞吐量。\n",
    "\n",
    "- 惰性删除浪费太多内存，有内存泄漏的危险。\n",
    "\n",
    "定期删除策略是前两种策略的一种整合和折中。\n",
    "\n",
    "- 定期删除策略每隔一段时间执行一次删除过期键操作，并通过限制删除操作执行的时长和频率来减少删除操作对CPU 时间的影响。\n",
    "\n",
    "- 除此之外，通过定期删除过期键，定期删除策略有效地减少了因为过期键而带来的内存浪费。定期删除策略的难点是确定删除操作执行的时长和频率\n",
    "\n",
    "- 如果删除操作执行得太频繁，或者执行的时间太长，定期删除策略就会退化成定时删除策略，以至于将C P U 时间过多地消耗在删除过期键上面。\n",
    "\n",
    "- 如果删除操作执行得太少，或者执行的时间太短，定期删除策略又会和惰性删除策略一样，出现浪费内存的情况。\n",
    "\n",
    "因此，如果采用定期删除策略的话，服务器必须根据情况，合理地设置删除操作的执行时长和执行频率。"
   ]
  },
  {
   "cell_type": "markdown",
   "metadata": {},
   "source": [
    "### Redis的过期键删除策略"
   ]
  },
  {
   "cell_type": "markdown",
   "metadata": {},
   "source": [
    "redis服务器实际使用的是惰性删除和定期删除两种策略：通过配合使用这两种删除策略，服务器可很好的使用CPU的时间和避免浪费内存空间之间取得平衡。"
   ]
  },
  {
   "cell_type": "markdown",
   "metadata": {},
   "source": [
    "### 从库的过期策略"
   ]
  },
  {
   "cell_type": "markdown",
   "metadata": {},
   "source": [
    "从库不会进行过期扫描，从库对过期的处理是被动的。主库在 key 到期时，会在 AOF 文件里增加一条 del 指令，同步到所有的从库，从库通过执行这条 del 指令来删除过期的 key。\n",
    "\n",
    "因为指令同步是异步进行的，所以主库过期的 key 的 del 指令没有及时同步到从库的话，会出现主从数据的不一致，主库没有的数据在从库里还存在。"
   ]
  },
  {
   "cell_type": "markdown",
   "metadata": {},
   "source": [
    "## 淘汰策略"
   ]
  },
  {
   "cell_type": "markdown",
   "metadata": {},
   "source": [
    "当 Redis 内存超出物理内存限制时，内存的数据会开始和磁盘产生频繁的交换 (swap)。交换会让 Redis 的性能急剧下降，\n",
    "\n",
    "对于访问量比较频繁的 Redis 来说，这样龟速的存取效率基本上等于不可用。\n",
    "\n",
    "在生产环境中我们是不允许 Redis 出现交换行为的，为了限制最大使用内存，Redis 提供了配置参数 maxmemory 来限制内存超出期望大小。\n",
    "\n",
    "当实际内存超出 maxmemory 时，Redis 提供了几种可选策略 (maxmemory-policy) 来让用户自己决定该如何腾出新的空间以继续提供读写服务。\n",
    "\n"
   ]
  },
  {
   "cell_type": "markdown",
   "metadata": {},
   "source": [
    "- noeviction 不会继续服务写请求 (DEL 请求可以继续服务)，读请求可以继续进行。\n",
    "\n",
    "  这样可以保证不会丢失数据，但是会让线上的业务不能持续进行。这是默认的淘汰策略。\n",
    "  \n",
    "\n",
    "- volatile-lru 尝试淘汰设置了过期时间的 key，最少使用的 key 优先被淘汰。\n",
    "\n",
    "  没有设置过期时间的 key 不会被淘汰，这样可以保证需要持久化的数据不会突然丢失。\n",
    "\n",
    "\n",
    "- volatile-ttl 跟上面一样，除了淘汰的策略不是 LRU，而是 key 的剩余寿命 ttl 的值，ttl 越小越优先被淘汰。\n",
    "\n",
    "\n",
    "- volatile-random 跟上面一样，不过淘汰的 key 是过期 key 集合中随机的 key。\n",
    "\n",
    "\n",
    "- allkeys-lru 区别于 volatile-lru，这个策略要淘汰的 key 对象是全体的 key 集合，而不只是过期的 key 集合。\n",
    "\n",
    "  这意味着没有设置过期时间的 key 也会被淘汰。\n",
    "  \n",
    "\n",
    "- allkeys-random 跟上面一样，不过淘汰的策略是随机的 key。"
   ]
  },
  {
   "cell_type": "markdown",
   "metadata": {},
   "source": [
    "### LRU算法"
   ]
  },
  {
   "cell_type": "code",
   "execution_count": null,
   "metadata": {
    "collapsed": true
   },
   "outputs": [],
   "source": []
  },
  {
   "cell_type": "markdown",
   "metadata": {
    "collapsed": true
   },
   "source": [
    "### 懒惰删除"
   ]
  },
  {
   "cell_type": "code",
   "execution_count": null,
   "metadata": {
    "collapsed": true
   },
   "outputs": [],
   "source": []
  },
  {
   "cell_type": "code",
   "execution_count": null,
   "metadata": {
    "collapsed": true
   },
   "outputs": [],
   "source": []
  },
  {
   "cell_type": "markdown",
   "metadata": {},
   "source": [
    " ### LFU"
   ]
  },
  {
   "cell_type": "code",
   "execution_count": null,
   "metadata": {
    "collapsed": true
   },
   "outputs": [],
   "source": []
  }
 ],
 "metadata": {
  "kernelspec": {
   "display_name": "Python [conda env:anaconda3]",
   "language": "python",
   "name": "conda-env-anaconda3-py"
  },
  "language_info": {
   "codemirror_mode": {
    "name": "ipython",
    "version": 3
   },
   "file_extension": ".py",
   "mimetype": "text/x-python",
   "name": "python",
   "nbconvert_exporter": "python",
   "pygments_lexer": "ipython3",
   "version": "3.6.2"
  }
 },
 "nbformat": 4,
 "nbformat_minor": 2
}
