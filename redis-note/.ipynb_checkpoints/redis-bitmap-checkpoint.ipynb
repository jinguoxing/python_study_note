{
 "cells": [
  {
   "cell_type": "markdown",
   "metadata": {},
   "source": [
    "## Bitmap （位图）"
   ]
  },
  {
   "cell_type": "markdown",
   "metadata": {},
   "source": [
    "**思考：比如需要记录用户一年的签到记录，签了是 1，没签是 0，要记录 365 天。**"
   ]
  },
  {
   "cell_type": "markdown",
   "metadata": {
    "collapsed": true
   },
   "source": [
    "为了解决这个问题，Redis 提供了位图数据结构，这样每天的签到记录只占据一个位，\n",
    "\n",
    "365 天就是 365 个位，46 个字节 (一个稍长一点的字符串) 就可以完全容纳下，这就大大节约了存储空间。"
   ]
  },
  {
   "cell_type": "markdown",
   "metadata": {
    "collapsed": true
   },
   "source": [
    "位图不是特殊的数据结构，它的内容其实就是普通的字符串，也就是 byte 数组。\n",
    "\n",
    "我们可以使用普通的 get/set 直接获取和设置整个位图的内容，也可以使用位图操作 getbit/setbit 等将 byte 数组看成「位数组」来处理。"
   ]
  },
  {
   "cell_type": "markdown",
   "metadata": {},
   "source": [
    "### 基本使用"
   ]
  },
  {
   "cell_type": "markdown",
   "metadata": {},
   "source": [
    "Redis 的位数组是自动扩展，如果设置了某个偏移位置超出了现有的内容范围，就会自动将位数组进行零扩充。"
   ]
  },
  {
   "cell_type": "markdown",
   "metadata": {},
   "source": [
    "接下来我们使用位操作将字符串设置为 hello (不是直接使用 set 指令)，\n",
    "\n",
    "首先我们需要得到 hello 的 ASCII 码，下面得到每个字符的 ASCII 码的二进制值。"
   ]
  },
  {
   "cell_type": "code",
   "execution_count": 7,
   "metadata": {},
   "outputs": [
    {
     "name": "stdout",
     "output_type": "stream",
     "text": [
      "0b1101000\n",
      "0b1100101\n",
      "0b1101100\n",
      "0b1101100\n",
      "0b1101111\n"
     ]
    }
   ],
   "source": [
    "print(bin(ord('h')))\n",
    "print(bin(ord('e')))\n",
    "print(bin(ord('l')))\n",
    "print(bin(ord('l')))\n",
    "print(bin(ord('o')))"
   ]
  },
  {
   "cell_type": "markdown",
   "metadata": {},
   "source": [
    "\n",
    "![位图](../images/redis-images/20180924-120143.png)\n",
    "\n",
    "**h 字符只有 1/2/4 位需要设置，e 字符只有 9/10/13/15 位需要设置。 值得注意的是位数组的顺序和字符的位顺序是相反的。**"
   ]
  },
  {
   "cell_type": "code",
   "execution_count": 24,
   "metadata": {},
   "outputs": [
    {
     "name": "stdout",
     "output_type": "stream",
     "text": [
      "(integer) 1\n",
      "(integer) 0\n",
      "(integer) 0\n",
      "(integer) 0\n",
      "(integer) 0\n",
      "(integer) 0\n",
      "(integer) 0\n",
      "(integer) 0\n",
      "\"he\"\n"
     ]
    }
   ],
   "source": [
    "!redis-cli del he \n",
    "!redis-cli setbit he 1 1 \n",
    "!redis-cli setbit he 2 1 \n",
    "!redis-cli setbit he 4 1 \n",
    "!redis-cli setbit he 9 1 \n",
    "!redis-cli setbit he 10 1 \n",
    "!redis-cli setbit he 13 1 \n",
    "!redis-cli setbit he 15 1 \n",
    "!redis-cli get he "
   ]
  },
  {
   "cell_type": "markdown",
   "metadata": {},
   "source": [
    "上面这个例子可以理解为「零存整取」，同样我们还也可以「零存零取」，「整存零取」。\n",
    "\n",
    "- 「零存」就是使用 setbit 对位值进行逐个设置，\n",
    "\n",
    "- 「整存」就是使用字符串一次性填充所有位数组，覆盖掉旧值。"
   ]
  },
  {
   "cell_type": "markdown",
   "metadata": {},
   "source": [
    "### 零存零取"
   ]
  },
  {
   "cell_type": "code",
   "execution_count": 9,
   "metadata": {},
   "outputs": [
    {
     "name": "stdout",
     "output_type": "stream",
     "text": [
      "(integer) 0\n",
      "(integer) 0\n",
      "(integer) 1\n",
      "(integer) 0\n",
      "(integer) 1\n"
     ]
    }
   ],
   "source": [
    "!redis-cli setbit w 1 1\n",
    "!redis-cli setbit w 3 1\n",
    "!redis-cli getbit w 1\n",
    "!redis-cli getbit w 2\n",
    "!redis-cli getbit w 3"
   ]
  },
  {
   "cell_type": "markdown",
   "metadata": {},
   "source": [
    "### 整存零取"
   ]
  },
  {
   "cell_type": "code",
   "execution_count": 12,
   "metadata": {},
   "outputs": [
    {
     "name": "stdout",
     "output_type": "stream",
     "text": [
      "OK\n",
      "(integer) 1\n",
      "(integer) 1\n",
      "(integer) 0\n",
      "(integer) 1\n",
      "(integer) 0\n"
     ]
    }
   ],
   "source": [
    "!redis-cli set w h \n",
    "!redis-cli getbit w 1\n",
    "!redis-cli getbit w 2\n",
    "!redis-cli getbit w 3\n",
    "!redis-cli getbit w 4\n",
    "!redis-cli getbit w 5"
   ]
  },
  {
   "cell_type": "markdown",
   "metadata": {},
   "source": [
    "### 统计和查找"
   ]
  },
  {
   "cell_type": "markdown",
   "metadata": {},
   "source": [
    "Redis 提供了位图统计指令 bitcount 和位图查找指令 bitpos，\n",
    "\n",
    "bitcount 用来统计指定位置范围内 1 的个数，bitpos 用来查找指定范围内出现的第一个 0 或 1。\n",
    "\n",
    "比如我们可以通过 bitcount 统计用户一共签到了多少天，通过 bitpos 指令查找用户从哪一天开始第一次签到。\n",
    "\n",
    "如果指定了范围参数[start, end]，就可以统计在某个时间范围内用户签到了多少天，用户自某天以后的哪天开始签到。\n",
    "\n",
    "遗憾的是， start 和 end 参数是字节索引，也就是说指定的位范围必须是 8 的倍数，而不能任意指定。\n",
    "\n",
    "\n",
    "因为这个设计，我们无法直接计算某个月内用户签到了多少天，而必须要将这个月所覆盖的字节内容全部取出来 (getrange 可以取出字符串的子串) 然后在内存里进行统计，这个非常繁琐。\n",
    "\n",
    "接下来我们简单试用一下 bitcount 指令和 bitpos 指令"
   ]
  },
  {
   "cell_type": "code",
   "execution_count": 27,
   "metadata": {},
   "outputs": [
    {
     "name": "stdout",
     "output_type": "stream",
     "text": [
      "OK\n",
      "(integer) 21\n",
      "(integer) 3\n",
      "(integer) 7\n"
     ]
    }
   ],
   "source": [
    "!redis-cli set w hello\n",
    "!redis-cli bitcount w \n",
    "!redis-cli bitcount w  0 0\n",
    "!redis-cli bitcount w  0 1"
   ]
  },
  {
   "cell_type": "markdown",
   "metadata": {},
   "source": [
    "**BITPOS key bit [start] [end]**\n",
    "\n",
    "返回字符串里面第一个被设置为1或者0的bit位。"
   ]
  },
  {
   "cell_type": "code",
   "execution_count": 23,
   "metadata": {},
   "outputs": [
    {
     "name": "stdout",
     "output_type": "stream",
     "text": [
      "(integer) 0\n",
      "(integer) 1\n",
      "(integer) 9\n",
      "(integer) 16\n"
     ]
    }
   ],
   "source": [
    "!redis-cli bitpos w  0\n",
    "!redis-cli bitpos w  1\n",
    "!redis-cli bitpos w  1 1 1\n",
    "!redis-cli bitpos w  0 2 2"
   ]
  },
  {
   "cell_type": "markdown",
   "metadata": {},
   "source": [
    "### 魔术指令 bitfield    (自行练习)"
   ]
  },
  {
   "cell_type": "markdown",
   "metadata": {
    "collapsed": true
   },
   "source": [
    "**BITFIELD key [GET type offset] [SET type offset value] [INCRBY type offset increment] [OVERFLOW WRAP|SAT|FAIL]**"
   ]
  }
 ],
 "metadata": {
  "kernelspec": {
   "display_name": "Python [conda env:anaconda3]",
   "language": "python",
   "name": "conda-env-anaconda3-py"
  },
  "language_info": {
   "codemirror_mode": {
    "name": "ipython",
    "version": 3
   },
   "file_extension": ".py",
   "mimetype": "text/x-python",
   "name": "python",
   "nbconvert_exporter": "python",
   "pygments_lexer": "ipython3",
   "version": "3.6.2"
  }
 },
 "nbformat": 4,
 "nbformat_minor": 2
}
