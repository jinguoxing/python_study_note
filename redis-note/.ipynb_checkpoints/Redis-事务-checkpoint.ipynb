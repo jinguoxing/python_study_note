{
 "cells": [
  {
   "cell_type": "markdown",
   "metadata": {},
   "source": [
    "## redis 事务（transaction）"
   ]
  },
  {
   "cell_type": "markdown",
   "metadata": {},
   "source": [
    "每个事务的操作都有begin、commit、rollback；\n",
    "\n",
    "begin 指事务的开始\n",
    "\n",
    "commit 指事务的提交\n",
    "\n",
    "rollback 指事务的回滚"
   ]
  },
  {
   "cell_type": "markdown",
   "metadata": {},
   "source": [
    "### redis事务的基础：MULTI 、EXEX、DISCARD、WATCH"
   ]
  },
  {
   "cell_type": "markdown",
   "metadata": {},
   "source": [
    "multi 指事务的开始，\n",
    "\n",
    "exec  指事务的执行，\n",
    "\n",
    "discard 指事务的丢弃。"
   ]
  },
  {
   "cell_type": "markdown",
   "metadata": {},
   "source": [
    "> multi\n",
    "OK\n",
    "> incr books\n",
    "QUEUED\n",
    "> incr books\n",
    "QUEUED\n",
    "> exec\n",
    "(integer) 1\n",
    "(integer) 2"
   ]
  },
  {
   "cell_type": "markdown",
   "metadata": {},
   "source": [
    "![事务](../images/redis-images/QQ20181021-140707-shiwu.png)"
   ]
  },
  {
   "cell_type": "markdown",
   "metadata": {},
   "source": [
    "上图显示了以上事务过程完整的交互效果，所有的指令在 exec 之前不执行，而是缓存在服务器的一个事务队列中，服务器一旦收到 exec 指令，\n",
    "\n",
    "才开执行整个事务队列，执行完毕后一次性返回所有指令的运行结果。\n",
    "\n",
    "因为 Redis 的单线程特性，它不用担心自己在执行队列的时候被其它指令打搅，可以保证他们能得到的「原子性」执行。\n",
    "\n",
    "QUEUED 是一个简单字符串，同 OK 是一个形式，它表示指令已经被服务器缓存到队列里了。"
   ]
  },
  {
   "cell_type": "markdown",
   "metadata": {},
   "source": [
    "### 原子性"
   ]
  },
  {
   "cell_type": "markdown",
   "metadata": {},
   "source": [
    "### discard （放弃事务）"
   ]
  },
  {
   "cell_type": "markdown",
   "metadata": {},
   "source": [
    "### watch"
   ]
  },
  {
   "cell_type": "markdown",
   "metadata": {},
   "source": [
    "### redis不支持回滚（roll back）"
   ]
  },
  {
   "cell_type": "markdown",
   "metadata": {},
   "source": [
    "### 通过CAS操作实现乐观锁"
   ]
  },
  {
   "cell_type": "code",
   "execution_count": null,
   "metadata": {
    "collapsed": true
   },
   "outputs": [],
   "source": []
  }
 ],
 "metadata": {
  "kernelspec": {
   "display_name": "Python [default]",
   "language": "python",
   "name": "python3"
  },
  "language_info": {
   "codemirror_mode": {
    "name": "ipython",
    "version": 3
   },
   "file_extension": ".py",
   "mimetype": "text/x-python",
   "name": "python",
   "nbconvert_exporter": "python",
   "pygments_lexer": "ipython3",
   "version": "3.6.2"
  }
 },
 "nbformat": 4,
 "nbformat_minor": 2
}
